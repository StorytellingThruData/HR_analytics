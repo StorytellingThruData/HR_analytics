{
 "cells": [
  {
   "cell_type": "code",
   "execution_count": 59,
   "id": "f71b0d4f",
   "metadata": {},
   "outputs": [
    {
     "name": "stdout",
     "output_type": "stream",
     "text": [
      "libraries have been imported\n"
     ]
    }
   ],
   "source": [
    "import pandas as pd\n",
    "import numpy as np\n",
    "import matplotlib.pyplot as plt\n",
    "import seaborn as sns\n",
    "from sklearn.model_selection import train_test_split\n",
    "from sklearn.linear_model import LogisticRegression\n",
    "from sklearn.metrics import accuracy_score\n",
    "from sklearn.metrics import confusion_matrix, plot_confusion_matrix, ConfusionMatrixDisplay\n",
    "import warnings\n",
    "warnings.filterwarnings(\"ignore\")\n",
    "print('libraries have been imported')"
   ]
  },
  {
   "cell_type": "code",
   "execution_count": 2,
   "id": "6c02683a",
   "metadata": {},
   "outputs": [],
   "source": [
    "data=pd.read_csv('cleaned_hr_data')"
   ]
  },
  {
   "cell_type": "code",
   "execution_count": 3,
   "id": "f3d5fa98",
   "metadata": {},
   "outputs": [
    {
     "data": {
      "text/html": [
       "<div>\n",
       "<style scoped>\n",
       "    .dataframe tbody tr th:only-of-type {\n",
       "        vertical-align: middle;\n",
       "    }\n",
       "\n",
       "    .dataframe tbody tr th {\n",
       "        vertical-align: top;\n",
       "    }\n",
       "\n",
       "    .dataframe thead th {\n",
       "        text-align: right;\n",
       "    }\n",
       "</style>\n",
       "<table border=\"1\" class=\"dataframe\">\n",
       "  <thead>\n",
       "    <tr style=\"text-align: right;\">\n",
       "      <th></th>\n",
       "      <th>Unnamed: 0</th>\n",
       "      <th>EmployeeID</th>\n",
       "      <th>EnvironmentSatisfaction</th>\n",
       "      <th>JobSatisfaction</th>\n",
       "      <th>WorkLifeBalance</th>\n",
       "      <th>Age</th>\n",
       "      <th>Attrition</th>\n",
       "      <th>BusinessTravel</th>\n",
       "      <th>Department</th>\n",
       "      <th>DistanceFromHome</th>\n",
       "      <th>...</th>\n",
       "      <th>TotalWorkingYears</th>\n",
       "      <th>TrainingTimesLastYear</th>\n",
       "      <th>YearsAtCompany</th>\n",
       "      <th>YearsSinceLastPromotion</th>\n",
       "      <th>YearsWithCurrManager</th>\n",
       "      <th>JobInvolvement</th>\n",
       "      <th>PerformanceRating</th>\n",
       "      <th>Total_w_days</th>\n",
       "      <th>AvgHours</th>\n",
       "      <th>TotalHours</th>\n",
       "    </tr>\n",
       "  </thead>\n",
       "  <tbody>\n",
       "    <tr>\n",
       "      <th>0</th>\n",
       "      <td>0</td>\n",
       "      <td>1</td>\n",
       "      <td>3.0</td>\n",
       "      <td>4.0</td>\n",
       "      <td>2.0</td>\n",
       "      <td>51</td>\n",
       "      <td>No</td>\n",
       "      <td>Travel_Rarely</td>\n",
       "      <td>Sales</td>\n",
       "      <td>6</td>\n",
       "      <td>...</td>\n",
       "      <td>1.0</td>\n",
       "      <td>6</td>\n",
       "      <td>1</td>\n",
       "      <td>0</td>\n",
       "      <td>0</td>\n",
       "      <td>3</td>\n",
       "      <td>3</td>\n",
       "      <td>232</td>\n",
       "      <td>7.37</td>\n",
       "      <td>1710.69</td>\n",
       "    </tr>\n",
       "    <tr>\n",
       "      <th>1</th>\n",
       "      <td>1</td>\n",
       "      <td>2</td>\n",
       "      <td>3.0</td>\n",
       "      <td>2.0</td>\n",
       "      <td>4.0</td>\n",
       "      <td>31</td>\n",
       "      <td>Yes</td>\n",
       "      <td>Travel_Frequently</td>\n",
       "      <td>Research &amp; Development</td>\n",
       "      <td>10</td>\n",
       "      <td>...</td>\n",
       "      <td>6.0</td>\n",
       "      <td>3</td>\n",
       "      <td>5</td>\n",
       "      <td>1</td>\n",
       "      <td>4</td>\n",
       "      <td>2</td>\n",
       "      <td>4</td>\n",
       "      <td>236</td>\n",
       "      <td>7.72</td>\n",
       "      <td>1821.68</td>\n",
       "    </tr>\n",
       "    <tr>\n",
       "      <th>2</th>\n",
       "      <td>2</td>\n",
       "      <td>3</td>\n",
       "      <td>2.0</td>\n",
       "      <td>2.0</td>\n",
       "      <td>1.0</td>\n",
       "      <td>32</td>\n",
       "      <td>No</td>\n",
       "      <td>Travel_Frequently</td>\n",
       "      <td>Research &amp; Development</td>\n",
       "      <td>17</td>\n",
       "      <td>...</td>\n",
       "      <td>5.0</td>\n",
       "      <td>2</td>\n",
       "      <td>5</td>\n",
       "      <td>0</td>\n",
       "      <td>3</td>\n",
       "      <td>3</td>\n",
       "      <td>3</td>\n",
       "      <td>242</td>\n",
       "      <td>7.01</td>\n",
       "      <td>1697.20</td>\n",
       "    </tr>\n",
       "    <tr>\n",
       "      <th>3</th>\n",
       "      <td>3</td>\n",
       "      <td>4</td>\n",
       "      <td>4.0</td>\n",
       "      <td>4.0</td>\n",
       "      <td>3.0</td>\n",
       "      <td>38</td>\n",
       "      <td>No</td>\n",
       "      <td>Non-Travel</td>\n",
       "      <td>Research &amp; Development</td>\n",
       "      <td>2</td>\n",
       "      <td>...</td>\n",
       "      <td>13.0</td>\n",
       "      <td>5</td>\n",
       "      <td>8</td>\n",
       "      <td>7</td>\n",
       "      <td>5</td>\n",
       "      <td>2</td>\n",
       "      <td>3</td>\n",
       "      <td>235</td>\n",
       "      <td>7.19</td>\n",
       "      <td>1690.51</td>\n",
       "    </tr>\n",
       "    <tr>\n",
       "      <th>4</th>\n",
       "      <td>4</td>\n",
       "      <td>5</td>\n",
       "      <td>4.0</td>\n",
       "      <td>1.0</td>\n",
       "      <td>3.0</td>\n",
       "      <td>32</td>\n",
       "      <td>No</td>\n",
       "      <td>Travel_Rarely</td>\n",
       "      <td>Research &amp; Development</td>\n",
       "      <td>10</td>\n",
       "      <td>...</td>\n",
       "      <td>9.0</td>\n",
       "      <td>2</td>\n",
       "      <td>6</td>\n",
       "      <td>0</td>\n",
       "      <td>4</td>\n",
       "      <td>3</td>\n",
       "      <td>3</td>\n",
       "      <td>245</td>\n",
       "      <td>8.01</td>\n",
       "      <td>1961.51</td>\n",
       "    </tr>\n",
       "  </tbody>\n",
       "</table>\n",
       "<p>5 rows × 33 columns</p>\n",
       "</div>"
      ],
      "text/plain": [
       "   Unnamed: 0  EmployeeID  EnvironmentSatisfaction  JobSatisfaction  \\\n",
       "0           0           1                      3.0              4.0   \n",
       "1           1           2                      3.0              2.0   \n",
       "2           2           3                      2.0              2.0   \n",
       "3           3           4                      4.0              4.0   \n",
       "4           4           5                      4.0              1.0   \n",
       "\n",
       "   WorkLifeBalance  Age Attrition     BusinessTravel              Department  \\\n",
       "0              2.0   51        No      Travel_Rarely                   Sales   \n",
       "1              4.0   31       Yes  Travel_Frequently  Research & Development   \n",
       "2              1.0   32        No  Travel_Frequently  Research & Development   \n",
       "3              3.0   38        No         Non-Travel  Research & Development   \n",
       "4              3.0   32        No      Travel_Rarely  Research & Development   \n",
       "\n",
       "   DistanceFromHome  ...  TotalWorkingYears TrainingTimesLastYear  \\\n",
       "0                 6  ...                1.0                     6   \n",
       "1                10  ...                6.0                     3   \n",
       "2                17  ...                5.0                     2   \n",
       "3                 2  ...               13.0                     5   \n",
       "4                10  ...                9.0                     2   \n",
       "\n",
       "   YearsAtCompany YearsSinceLastPromotion  YearsWithCurrManager  \\\n",
       "0               1                       0                     0   \n",
       "1               5                       1                     4   \n",
       "2               5                       0                     3   \n",
       "3               8                       7                     5   \n",
       "4               6                       0                     4   \n",
       "\n",
       "  JobInvolvement PerformanceRating  Total_w_days  AvgHours TotalHours  \n",
       "0              3                 3           232      7.37    1710.69  \n",
       "1              2                 4           236      7.72    1821.68  \n",
       "2              3                 3           242      7.01    1697.20  \n",
       "3              2                 3           235      7.19    1690.51  \n",
       "4              3                 3           245      8.01    1961.51  \n",
       "\n",
       "[5 rows x 33 columns]"
      ]
     },
     "execution_count": 3,
     "metadata": {},
     "output_type": "execute_result"
    }
   ],
   "source": [
    "data.head()"
   ]
  },
  {
   "cell_type": "code",
   "execution_count": 4,
   "id": "fc0af003",
   "metadata": {},
   "outputs": [
    {
     "data": {
      "text/html": [
       "<div>\n",
       "<style scoped>\n",
       "    .dataframe tbody tr th:only-of-type {\n",
       "        vertical-align: middle;\n",
       "    }\n",
       "\n",
       "    .dataframe tbody tr th {\n",
       "        vertical-align: top;\n",
       "    }\n",
       "\n",
       "    .dataframe thead th {\n",
       "        text-align: right;\n",
       "    }\n",
       "</style>\n",
       "<table border=\"1\" class=\"dataframe\">\n",
       "  <thead>\n",
       "    <tr style=\"text-align: right;\">\n",
       "      <th></th>\n",
       "      <th>Unnamed: 0</th>\n",
       "      <th>EmployeeID</th>\n",
       "      <th>EnvironmentSatisfaction</th>\n",
       "      <th>JobSatisfaction</th>\n",
       "      <th>WorkLifeBalance</th>\n",
       "      <th>Age</th>\n",
       "      <th>Attrition</th>\n",
       "      <th>BusinessTravel</th>\n",
       "      <th>Department</th>\n",
       "      <th>DistanceFromHome</th>\n",
       "      <th>...</th>\n",
       "      <th>TotalWorkingYears</th>\n",
       "      <th>TrainingTimesLastYear</th>\n",
       "      <th>YearsAtCompany</th>\n",
       "      <th>YearsSinceLastPromotion</th>\n",
       "      <th>YearsWithCurrManager</th>\n",
       "      <th>JobInvolvement</th>\n",
       "      <th>PerformanceRating</th>\n",
       "      <th>Total_w_days</th>\n",
       "      <th>AvgHours</th>\n",
       "      <th>TotalHours</th>\n",
       "    </tr>\n",
       "  </thead>\n",
       "  <tbody>\n",
       "    <tr>\n",
       "      <th>4405</th>\n",
       "      <td>4405</td>\n",
       "      <td>4406</td>\n",
       "      <td>4.0</td>\n",
       "      <td>1.0</td>\n",
       "      <td>3.0</td>\n",
       "      <td>42</td>\n",
       "      <td>No</td>\n",
       "      <td>Travel_Rarely</td>\n",
       "      <td>Research &amp; Development</td>\n",
       "      <td>5</td>\n",
       "      <td>...</td>\n",
       "      <td>10.0</td>\n",
       "      <td>5</td>\n",
       "      <td>3</td>\n",
       "      <td>0</td>\n",
       "      <td>2</td>\n",
       "      <td>3</td>\n",
       "      <td>3</td>\n",
       "      <td>243</td>\n",
       "      <td>8.52</td>\n",
       "      <td>2070.91</td>\n",
       "    </tr>\n",
       "    <tr>\n",
       "      <th>4406</th>\n",
       "      <td>4406</td>\n",
       "      <td>4407</td>\n",
       "      <td>4.0</td>\n",
       "      <td>4.0</td>\n",
       "      <td>3.0</td>\n",
       "      <td>29</td>\n",
       "      <td>No</td>\n",
       "      <td>Travel_Rarely</td>\n",
       "      <td>Research &amp; Development</td>\n",
       "      <td>2</td>\n",
       "      <td>...</td>\n",
       "      <td>10.0</td>\n",
       "      <td>2</td>\n",
       "      <td>3</td>\n",
       "      <td>0</td>\n",
       "      <td>2</td>\n",
       "      <td>2</td>\n",
       "      <td>3</td>\n",
       "      <td>241</td>\n",
       "      <td>6.09</td>\n",
       "      <td>1468.40</td>\n",
       "    </tr>\n",
       "    <tr>\n",
       "      <th>4407</th>\n",
       "      <td>4407</td>\n",
       "      <td>4408</td>\n",
       "      <td>1.0</td>\n",
       "      <td>3.0</td>\n",
       "      <td>3.0</td>\n",
       "      <td>25</td>\n",
       "      <td>No</td>\n",
       "      <td>Travel_Rarely</td>\n",
       "      <td>Research &amp; Development</td>\n",
       "      <td>25</td>\n",
       "      <td>...</td>\n",
       "      <td>5.0</td>\n",
       "      <td>4</td>\n",
       "      <td>4</td>\n",
       "      <td>1</td>\n",
       "      <td>2</td>\n",
       "      <td>3</td>\n",
       "      <td>4</td>\n",
       "      <td>231</td>\n",
       "      <td>7.71</td>\n",
       "      <td>1780.23</td>\n",
       "    </tr>\n",
       "    <tr>\n",
       "      <th>4408</th>\n",
       "      <td>4408</td>\n",
       "      <td>4409</td>\n",
       "      <td>4.0</td>\n",
       "      <td>1.0</td>\n",
       "      <td>3.0</td>\n",
       "      <td>42</td>\n",
       "      <td>No</td>\n",
       "      <td>Travel_Rarely</td>\n",
       "      <td>Sales</td>\n",
       "      <td>18</td>\n",
       "      <td>...</td>\n",
       "      <td>10.0</td>\n",
       "      <td>2</td>\n",
       "      <td>9</td>\n",
       "      <td>7</td>\n",
       "      <td>8</td>\n",
       "      <td>2</td>\n",
       "      <td>3</td>\n",
       "      <td>241</td>\n",
       "      <td>9.49</td>\n",
       "      <td>2287.72</td>\n",
       "    </tr>\n",
       "    <tr>\n",
       "      <th>4409</th>\n",
       "      <td>4409</td>\n",
       "      <td>4410</td>\n",
       "      <td>1.0</td>\n",
       "      <td>3.0</td>\n",
       "      <td>3.0</td>\n",
       "      <td>40</td>\n",
       "      <td>No</td>\n",
       "      <td>Travel_Rarely</td>\n",
       "      <td>Research &amp; Development</td>\n",
       "      <td>28</td>\n",
       "      <td>...</td>\n",
       "      <td>10.0</td>\n",
       "      <td>6</td>\n",
       "      <td>21</td>\n",
       "      <td>3</td>\n",
       "      <td>9</td>\n",
       "      <td>4</td>\n",
       "      <td>3</td>\n",
       "      <td>232</td>\n",
       "      <td>6.99</td>\n",
       "      <td>1621.44</td>\n",
       "    </tr>\n",
       "  </tbody>\n",
       "</table>\n",
       "<p>5 rows × 33 columns</p>\n",
       "</div>"
      ],
      "text/plain": [
       "      Unnamed: 0  EmployeeID  EnvironmentSatisfaction  JobSatisfaction  \\\n",
       "4405        4405        4406                      4.0              1.0   \n",
       "4406        4406        4407                      4.0              4.0   \n",
       "4407        4407        4408                      1.0              3.0   \n",
       "4408        4408        4409                      4.0              1.0   \n",
       "4409        4409        4410                      1.0              3.0   \n",
       "\n",
       "      WorkLifeBalance  Age Attrition BusinessTravel              Department  \\\n",
       "4405              3.0   42        No  Travel_Rarely  Research & Development   \n",
       "4406              3.0   29        No  Travel_Rarely  Research & Development   \n",
       "4407              3.0   25        No  Travel_Rarely  Research & Development   \n",
       "4408              3.0   42        No  Travel_Rarely                   Sales   \n",
       "4409              3.0   40        No  Travel_Rarely  Research & Development   \n",
       "\n",
       "      DistanceFromHome  ...  TotalWorkingYears TrainingTimesLastYear  \\\n",
       "4405                 5  ...               10.0                     5   \n",
       "4406                 2  ...               10.0                     2   \n",
       "4407                25  ...                5.0                     4   \n",
       "4408                18  ...               10.0                     2   \n",
       "4409                28  ...               10.0                     6   \n",
       "\n",
       "      YearsAtCompany YearsSinceLastPromotion  YearsWithCurrManager  \\\n",
       "4405               3                       0                     2   \n",
       "4406               3                       0                     2   \n",
       "4407               4                       1                     2   \n",
       "4408               9                       7                     8   \n",
       "4409              21                       3                     9   \n",
       "\n",
       "     JobInvolvement PerformanceRating  Total_w_days  AvgHours TotalHours  \n",
       "4405              3                 3           243      8.52    2070.91  \n",
       "4406              2                 3           241      6.09    1468.40  \n",
       "4407              3                 4           231      7.71    1780.23  \n",
       "4408              2                 3           241      9.49    2287.72  \n",
       "4409              4                 3           232      6.99    1621.44  \n",
       "\n",
       "[5 rows x 33 columns]"
      ]
     },
     "execution_count": 4,
     "metadata": {},
     "output_type": "execute_result"
    }
   ],
   "source": [
    "data.tail()"
   ]
  },
  {
   "cell_type": "code",
   "execution_count": 5,
   "id": "4418d896",
   "metadata": {},
   "outputs": [
    {
     "data": {
      "text/plain": [
       "(4410, 33)"
      ]
     },
     "execution_count": 5,
     "metadata": {},
     "output_type": "execute_result"
    }
   ],
   "source": [
    "data.shape"
   ]
  },
  {
   "cell_type": "code",
   "execution_count": null,
   "id": "6e5324ce",
   "metadata": {},
   "outputs": [],
   "source": []
  },
  {
   "cell_type": "code",
   "execution_count": 6,
   "id": "069d66a9",
   "metadata": {},
   "outputs": [
    {
     "data": {
      "text/plain": [
       "Unnamed: 0                 0\n",
       "EmployeeID                 0\n",
       "EnvironmentSatisfaction    0\n",
       "JobSatisfaction            0\n",
       "WorkLifeBalance            0\n",
       "Age                        0\n",
       "Attrition                  0\n",
       "BusinessTravel             0\n",
       "Department                 0\n",
       "DistanceFromHome           0\n",
       "Education                  0\n",
       "EducationField             0\n",
       "EmployeeCount              0\n",
       "Gender                     0\n",
       "JobLevel                   0\n",
       "JobRole                    0\n",
       "MaritalStatus              0\n",
       "MonthlyIncome              0\n",
       "NumCompaniesWorked         0\n",
       "Over18                     0\n",
       "PercentSalaryHike          0\n",
       "StandardHours              0\n",
       "StockOptionLevel           0\n",
       "TotalWorkingYears          0\n",
       "TrainingTimesLastYear      0\n",
       "YearsAtCompany             0\n",
       "YearsSinceLastPromotion    0\n",
       "YearsWithCurrManager       0\n",
       "JobInvolvement             0\n",
       "PerformanceRating          0\n",
       "Total_w_days               0\n",
       "AvgHours                   0\n",
       "TotalHours                 0\n",
       "dtype: int64"
      ]
     },
     "execution_count": 6,
     "metadata": {},
     "output_type": "execute_result"
    }
   ],
   "source": [
    "data.isnull().sum() # let's drop column Unnamed"
   ]
  },
  {
   "cell_type": "code",
   "execution_count": 7,
   "id": "2f692448",
   "metadata": {},
   "outputs": [],
   "source": [
    "data.drop(['Unnamed: 0'], inplace=True, axis=1)"
   ]
  },
  {
   "cell_type": "code",
   "execution_count": 8,
   "id": "7fd6edc6",
   "metadata": {},
   "outputs": [],
   "source": [
    "data.drop(['Over18'], inplace=True, axis=1)"
   ]
  },
  {
   "cell_type": "code",
   "execution_count": 9,
   "id": "0764a357",
   "metadata": {},
   "outputs": [
    {
     "data": {
      "text/plain": [
       "Index(['EmployeeID', 'EnvironmentSatisfaction', 'JobSatisfaction',\n",
       "       'WorkLifeBalance', 'Age', 'Attrition', 'BusinessTravel', 'Department',\n",
       "       'DistanceFromHome', 'Education', 'EducationField', 'EmployeeCount',\n",
       "       'Gender', 'JobLevel', 'JobRole', 'MaritalStatus', 'MonthlyIncome',\n",
       "       'NumCompaniesWorked', 'PercentSalaryHike', 'StandardHours',\n",
       "       'StockOptionLevel', 'TotalWorkingYears', 'TrainingTimesLastYear',\n",
       "       'YearsAtCompany', 'YearsSinceLastPromotion', 'YearsWithCurrManager',\n",
       "       'JobInvolvement', 'PerformanceRating', 'Total_w_days', 'AvgHours',\n",
       "       'TotalHours'],\n",
       "      dtype='object')"
      ]
     },
     "execution_count": 9,
     "metadata": {},
     "output_type": "execute_result"
    }
   ],
   "source": [
    "data.columns"
   ]
  },
  {
   "cell_type": "code",
   "execution_count": 10,
   "id": "293bbd76",
   "metadata": {},
   "outputs": [],
   "source": [
    "# We will perform a logistic regression to predict the outcome for test data, \n",
    "# and validate the results by using the confusion matrix."
   ]
  },
  {
   "cell_type": "code",
   "execution_count": 11,
   "id": "6dc45d0e",
   "metadata": {},
   "outputs": [],
   "source": [
    "# let's copy the data frame into a new one\n",
    "data1=data.copy()"
   ]
  },
  {
   "cell_type": "code",
   "execution_count": 12,
   "id": "f7b6b801",
   "metadata": {},
   "outputs": [
    {
     "data": {
      "text/plain": [
       "(4410, 31)"
      ]
     },
     "execution_count": 12,
     "metadata": {},
     "output_type": "execute_result"
    }
   ],
   "source": [
    "data1.shape"
   ]
  },
  {
   "cell_type": "code",
   "execution_count": 13,
   "id": "32586600",
   "metadata": {},
   "outputs": [
    {
     "data": {
      "text/plain": [
       "EmployeeID                   int64\n",
       "EnvironmentSatisfaction    float64\n",
       "JobSatisfaction            float64\n",
       "WorkLifeBalance            float64\n",
       "Age                          int64\n",
       "Attrition                   object\n",
       "BusinessTravel              object\n",
       "Department                  object\n",
       "DistanceFromHome             int64\n",
       "Education                    int64\n",
       "EducationField              object\n",
       "EmployeeCount                int64\n",
       "Gender                      object\n",
       "JobLevel                     int64\n",
       "JobRole                     object\n",
       "MaritalStatus               object\n",
       "MonthlyIncome                int64\n",
       "NumCompaniesWorked         float64\n",
       "PercentSalaryHike            int64\n",
       "StandardHours                int64\n",
       "StockOptionLevel             int64\n",
       "TotalWorkingYears          float64\n",
       "TrainingTimesLastYear        int64\n",
       "YearsAtCompany               int64\n",
       "YearsSinceLastPromotion      int64\n",
       "YearsWithCurrManager         int64\n",
       "JobInvolvement               int64\n",
       "PerformanceRating            int64\n",
       "Total_w_days                 int64\n",
       "AvgHours                   float64\n",
       "TotalHours                 float64\n",
       "dtype: object"
      ]
     },
     "execution_count": 13,
     "metadata": {},
     "output_type": "execute_result"
    }
   ],
   "source": [
    "data1.dtypes"
   ]
  },
  {
   "cell_type": "code",
   "execution_count": null,
   "id": "49c99ff9",
   "metadata": {},
   "outputs": [],
   "source": []
  },
  {
   "cell_type": "code",
   "execution_count": 14,
   "id": "309c8216",
   "metadata": {},
   "outputs": [
    {
     "data": {
      "text/plain": [
       "Index(['EmployeeID', 'EnvironmentSatisfaction', 'JobSatisfaction',\n",
       "       'WorkLifeBalance', 'Age', 'Attrition', 'BusinessTravel', 'Department',\n",
       "       'DistanceFromHome', 'Education', 'EducationField', 'EmployeeCount',\n",
       "       'Gender', 'JobLevel', 'JobRole', 'MaritalStatus', 'MonthlyIncome',\n",
       "       'NumCompaniesWorked', 'PercentSalaryHike', 'StandardHours',\n",
       "       'StockOptionLevel', 'TotalWorkingYears', 'TrainingTimesLastYear',\n",
       "       'YearsAtCompany', 'YearsSinceLastPromotion', 'YearsWithCurrManager',\n",
       "       'JobInvolvement', 'PerformanceRating', 'Total_w_days', 'AvgHours',\n",
       "       'TotalHours'],\n",
       "      dtype='object')"
      ]
     },
     "execution_count": 14,
     "metadata": {},
     "output_type": "execute_result"
    }
   ],
   "source": [
    "data1.columns"
   ]
  },
  {
   "cell_type": "code",
   "execution_count": 15,
   "id": "4e8de3c5",
   "metadata": {},
   "outputs": [
    {
     "data": {
      "text/html": [
       "<div>\n",
       "<style scoped>\n",
       "    .dataframe tbody tr th:only-of-type {\n",
       "        vertical-align: middle;\n",
       "    }\n",
       "\n",
       "    .dataframe tbody tr th {\n",
       "        vertical-align: top;\n",
       "    }\n",
       "\n",
       "    .dataframe thead th {\n",
       "        text-align: right;\n",
       "    }\n",
       "</style>\n",
       "<table border=\"1\" class=\"dataframe\">\n",
       "  <thead>\n",
       "    <tr style=\"text-align: right;\">\n",
       "      <th></th>\n",
       "      <th>EmployeeID</th>\n",
       "      <th>EnvironmentSatisfaction</th>\n",
       "      <th>JobSatisfaction</th>\n",
       "      <th>WorkLifeBalance</th>\n",
       "      <th>Age</th>\n",
       "      <th>Attrition</th>\n",
       "      <th>BusinessTravel</th>\n",
       "      <th>Department</th>\n",
       "      <th>DistanceFromHome</th>\n",
       "      <th>Education</th>\n",
       "      <th>...</th>\n",
       "      <th>TotalWorkingYears</th>\n",
       "      <th>TrainingTimesLastYear</th>\n",
       "      <th>YearsAtCompany</th>\n",
       "      <th>YearsSinceLastPromotion</th>\n",
       "      <th>YearsWithCurrManager</th>\n",
       "      <th>JobInvolvement</th>\n",
       "      <th>PerformanceRating</th>\n",
       "      <th>Total_w_days</th>\n",
       "      <th>AvgHours</th>\n",
       "      <th>TotalHours</th>\n",
       "    </tr>\n",
       "  </thead>\n",
       "  <tbody>\n",
       "    <tr>\n",
       "      <th>0</th>\n",
       "      <td>1</td>\n",
       "      <td>3.0</td>\n",
       "      <td>4.0</td>\n",
       "      <td>2.0</td>\n",
       "      <td>51</td>\n",
       "      <td>No</td>\n",
       "      <td>Travel_Rarely</td>\n",
       "      <td>Sales</td>\n",
       "      <td>6</td>\n",
       "      <td>2</td>\n",
       "      <td>...</td>\n",
       "      <td>1.0</td>\n",
       "      <td>6</td>\n",
       "      <td>1</td>\n",
       "      <td>0</td>\n",
       "      <td>0</td>\n",
       "      <td>3</td>\n",
       "      <td>3</td>\n",
       "      <td>232</td>\n",
       "      <td>7.37</td>\n",
       "      <td>1710.69</td>\n",
       "    </tr>\n",
       "    <tr>\n",
       "      <th>1</th>\n",
       "      <td>2</td>\n",
       "      <td>3.0</td>\n",
       "      <td>2.0</td>\n",
       "      <td>4.0</td>\n",
       "      <td>31</td>\n",
       "      <td>Yes</td>\n",
       "      <td>Travel_Frequently</td>\n",
       "      <td>Research &amp; Development</td>\n",
       "      <td>10</td>\n",
       "      <td>1</td>\n",
       "      <td>...</td>\n",
       "      <td>6.0</td>\n",
       "      <td>3</td>\n",
       "      <td>5</td>\n",
       "      <td>1</td>\n",
       "      <td>4</td>\n",
       "      <td>2</td>\n",
       "      <td>4</td>\n",
       "      <td>236</td>\n",
       "      <td>7.72</td>\n",
       "      <td>1821.68</td>\n",
       "    </tr>\n",
       "    <tr>\n",
       "      <th>2</th>\n",
       "      <td>3</td>\n",
       "      <td>2.0</td>\n",
       "      <td>2.0</td>\n",
       "      <td>1.0</td>\n",
       "      <td>32</td>\n",
       "      <td>No</td>\n",
       "      <td>Travel_Frequently</td>\n",
       "      <td>Research &amp; Development</td>\n",
       "      <td>17</td>\n",
       "      <td>4</td>\n",
       "      <td>...</td>\n",
       "      <td>5.0</td>\n",
       "      <td>2</td>\n",
       "      <td>5</td>\n",
       "      <td>0</td>\n",
       "      <td>3</td>\n",
       "      <td>3</td>\n",
       "      <td>3</td>\n",
       "      <td>242</td>\n",
       "      <td>7.01</td>\n",
       "      <td>1697.20</td>\n",
       "    </tr>\n",
       "    <tr>\n",
       "      <th>3</th>\n",
       "      <td>4</td>\n",
       "      <td>4.0</td>\n",
       "      <td>4.0</td>\n",
       "      <td>3.0</td>\n",
       "      <td>38</td>\n",
       "      <td>No</td>\n",
       "      <td>Non-Travel</td>\n",
       "      <td>Research &amp; Development</td>\n",
       "      <td>2</td>\n",
       "      <td>5</td>\n",
       "      <td>...</td>\n",
       "      <td>13.0</td>\n",
       "      <td>5</td>\n",
       "      <td>8</td>\n",
       "      <td>7</td>\n",
       "      <td>5</td>\n",
       "      <td>2</td>\n",
       "      <td>3</td>\n",
       "      <td>235</td>\n",
       "      <td>7.19</td>\n",
       "      <td>1690.51</td>\n",
       "    </tr>\n",
       "    <tr>\n",
       "      <th>4</th>\n",
       "      <td>5</td>\n",
       "      <td>4.0</td>\n",
       "      <td>1.0</td>\n",
       "      <td>3.0</td>\n",
       "      <td>32</td>\n",
       "      <td>No</td>\n",
       "      <td>Travel_Rarely</td>\n",
       "      <td>Research &amp; Development</td>\n",
       "      <td>10</td>\n",
       "      <td>1</td>\n",
       "      <td>...</td>\n",
       "      <td>9.0</td>\n",
       "      <td>2</td>\n",
       "      <td>6</td>\n",
       "      <td>0</td>\n",
       "      <td>4</td>\n",
       "      <td>3</td>\n",
       "      <td>3</td>\n",
       "      <td>245</td>\n",
       "      <td>8.01</td>\n",
       "      <td>1961.51</td>\n",
       "    </tr>\n",
       "  </tbody>\n",
       "</table>\n",
       "<p>5 rows × 31 columns</p>\n",
       "</div>"
      ],
      "text/plain": [
       "   EmployeeID  EnvironmentSatisfaction  JobSatisfaction  WorkLifeBalance  Age  \\\n",
       "0           1                      3.0              4.0              2.0   51   \n",
       "1           2                      3.0              2.0              4.0   31   \n",
       "2           3                      2.0              2.0              1.0   32   \n",
       "3           4                      4.0              4.0              3.0   38   \n",
       "4           5                      4.0              1.0              3.0   32   \n",
       "\n",
       "  Attrition     BusinessTravel              Department  DistanceFromHome  \\\n",
       "0        No      Travel_Rarely                   Sales                 6   \n",
       "1       Yes  Travel_Frequently  Research & Development                10   \n",
       "2        No  Travel_Frequently  Research & Development                17   \n",
       "3        No         Non-Travel  Research & Development                 2   \n",
       "4        No      Travel_Rarely  Research & Development                10   \n",
       "\n",
       "   Education  ... TotalWorkingYears  TrainingTimesLastYear YearsAtCompany  \\\n",
       "0          2  ...               1.0                      6              1   \n",
       "1          1  ...               6.0                      3              5   \n",
       "2          4  ...               5.0                      2              5   \n",
       "3          5  ...              13.0                      5              8   \n",
       "4          1  ...               9.0                      2              6   \n",
       "\n",
       "   YearsSinceLastPromotion YearsWithCurrManager JobInvolvement  \\\n",
       "0                        0                    0              3   \n",
       "1                        1                    4              2   \n",
       "2                        0                    3              3   \n",
       "3                        7                    5              2   \n",
       "4                        0                    4              3   \n",
       "\n",
       "   PerformanceRating  Total_w_days  AvgHours  TotalHours  \n",
       "0                  3           232      7.37     1710.69  \n",
       "1                  4           236      7.72     1821.68  \n",
       "2                  3           242      7.01     1697.20  \n",
       "3                  3           235      7.19     1690.51  \n",
       "4                  3           245      8.01     1961.51  \n",
       "\n",
       "[5 rows x 31 columns]"
      ]
     },
     "execution_count": 15,
     "metadata": {},
     "output_type": "execute_result"
    }
   ],
   "source": [
    "data1.head()"
   ]
  },
  {
   "cell_type": "code",
   "execution_count": null,
   "id": "5afb81ba",
   "metadata": {},
   "outputs": [],
   "source": []
  },
  {
   "cell_type": "code",
   "execution_count": 17,
   "id": "d178417d",
   "metadata": {},
   "outputs": [],
   "source": [
    "# Get dummy columns for 'Attrition', 'BusinessTravel', 'Department', 'EducationField','Gender','JobRole',\n",
    "#'MaritalStatus'\n",
    "data1=pd.get_dummies(data1, columns = ['BusinessTravel', 'Department', 'EducationField','Gender','JobRole','MaritalStatus'])"
   ]
  },
  {
   "cell_type": "code",
   "execution_count": 18,
   "id": "6554748e",
   "metadata": {},
   "outputs": [
    {
     "data": {
      "text/plain": [
       "EmployeeID                             int64\n",
       "EnvironmentSatisfaction              float64\n",
       "JobSatisfaction                      float64\n",
       "WorkLifeBalance                      float64\n",
       "Age                                    int64\n",
       "Attrition                             object\n",
       "DistanceFromHome                       int64\n",
       "Education                              int64\n",
       "EmployeeCount                          int64\n",
       "JobLevel                               int64\n",
       "MonthlyIncome                          int64\n",
       "NumCompaniesWorked                   float64\n",
       "PercentSalaryHike                      int64\n",
       "StandardHours                          int64\n",
       "StockOptionLevel                       int64\n",
       "TotalWorkingYears                    float64\n",
       "TrainingTimesLastYear                  int64\n",
       "YearsAtCompany                         int64\n",
       "YearsSinceLastPromotion                int64\n",
       "YearsWithCurrManager                   int64\n",
       "JobInvolvement                         int64\n",
       "PerformanceRating                      int64\n",
       "Total_w_days                           int64\n",
       "AvgHours                             float64\n",
       "TotalHours                           float64\n",
       "BusinessTravel_Non-Travel              uint8\n",
       "BusinessTravel_Travel_Frequently       uint8\n",
       "BusinessTravel_Travel_Rarely           uint8\n",
       "Department_Human Resources             uint8\n",
       "Department_Research & Development      uint8\n",
       "Department_Sales                       uint8\n",
       "EducationField_Human Resources         uint8\n",
       "EducationField_Life Sciences           uint8\n",
       "EducationField_Marketing               uint8\n",
       "EducationField_Medical                 uint8\n",
       "EducationField_Other                   uint8\n",
       "EducationField_Technical Degree        uint8\n",
       "Gender_Female                          uint8\n",
       "Gender_Male                            uint8\n",
       "JobRole_Healthcare Representative      uint8\n",
       "JobRole_Human Resources                uint8\n",
       "JobRole_Laboratory Technician          uint8\n",
       "JobRole_Manager                        uint8\n",
       "JobRole_Manufacturing Director         uint8\n",
       "JobRole_Research Director              uint8\n",
       "JobRole_Research Scientist             uint8\n",
       "JobRole_Sales Executive                uint8\n",
       "JobRole_Sales Representative           uint8\n",
       "MaritalStatus_Divorced                 uint8\n",
       "MaritalStatus_Married                  uint8\n",
       "MaritalStatus_Single                   uint8\n",
       "dtype: object"
      ]
     },
     "execution_count": 18,
     "metadata": {},
     "output_type": "execute_result"
    }
   ],
   "source": [
    "data1.dtypes\n"
   ]
  },
  {
   "cell_type": "code",
   "execution_count": 19,
   "id": "5c865056",
   "metadata": {},
   "outputs": [
    {
     "data": {
      "text/html": [
       "<div>\n",
       "<style scoped>\n",
       "    .dataframe tbody tr th:only-of-type {\n",
       "        vertical-align: middle;\n",
       "    }\n",
       "\n",
       "    .dataframe tbody tr th {\n",
       "        vertical-align: top;\n",
       "    }\n",
       "\n",
       "    .dataframe thead th {\n",
       "        text-align: right;\n",
       "    }\n",
       "</style>\n",
       "<table border=\"1\" class=\"dataframe\">\n",
       "  <thead>\n",
       "    <tr style=\"text-align: right;\">\n",
       "      <th></th>\n",
       "      <th>EmployeeID</th>\n",
       "      <th>EnvironmentSatisfaction</th>\n",
       "      <th>JobSatisfaction</th>\n",
       "      <th>WorkLifeBalance</th>\n",
       "      <th>Age</th>\n",
       "      <th>Attrition</th>\n",
       "      <th>DistanceFromHome</th>\n",
       "      <th>Education</th>\n",
       "      <th>EmployeeCount</th>\n",
       "      <th>JobLevel</th>\n",
       "      <th>...</th>\n",
       "      <th>JobRole_Laboratory Technician</th>\n",
       "      <th>JobRole_Manager</th>\n",
       "      <th>JobRole_Manufacturing Director</th>\n",
       "      <th>JobRole_Research Director</th>\n",
       "      <th>JobRole_Research Scientist</th>\n",
       "      <th>JobRole_Sales Executive</th>\n",
       "      <th>JobRole_Sales Representative</th>\n",
       "      <th>MaritalStatus_Divorced</th>\n",
       "      <th>MaritalStatus_Married</th>\n",
       "      <th>MaritalStatus_Single</th>\n",
       "    </tr>\n",
       "  </thead>\n",
       "  <tbody>\n",
       "    <tr>\n",
       "      <th>0</th>\n",
       "      <td>1</td>\n",
       "      <td>3.0</td>\n",
       "      <td>4.0</td>\n",
       "      <td>2.0</td>\n",
       "      <td>51</td>\n",
       "      <td>No</td>\n",
       "      <td>6</td>\n",
       "      <td>2</td>\n",
       "      <td>1</td>\n",
       "      <td>1</td>\n",
       "      <td>...</td>\n",
       "      <td>0</td>\n",
       "      <td>0</td>\n",
       "      <td>0</td>\n",
       "      <td>0</td>\n",
       "      <td>0</td>\n",
       "      <td>0</td>\n",
       "      <td>0</td>\n",
       "      <td>0</td>\n",
       "      <td>1</td>\n",
       "      <td>0</td>\n",
       "    </tr>\n",
       "    <tr>\n",
       "      <th>1</th>\n",
       "      <td>2</td>\n",
       "      <td>3.0</td>\n",
       "      <td>2.0</td>\n",
       "      <td>4.0</td>\n",
       "      <td>31</td>\n",
       "      <td>Yes</td>\n",
       "      <td>10</td>\n",
       "      <td>1</td>\n",
       "      <td>1</td>\n",
       "      <td>1</td>\n",
       "      <td>...</td>\n",
       "      <td>0</td>\n",
       "      <td>0</td>\n",
       "      <td>0</td>\n",
       "      <td>0</td>\n",
       "      <td>1</td>\n",
       "      <td>0</td>\n",
       "      <td>0</td>\n",
       "      <td>0</td>\n",
       "      <td>0</td>\n",
       "      <td>1</td>\n",
       "    </tr>\n",
       "    <tr>\n",
       "      <th>2</th>\n",
       "      <td>3</td>\n",
       "      <td>2.0</td>\n",
       "      <td>2.0</td>\n",
       "      <td>1.0</td>\n",
       "      <td>32</td>\n",
       "      <td>No</td>\n",
       "      <td>17</td>\n",
       "      <td>4</td>\n",
       "      <td>1</td>\n",
       "      <td>4</td>\n",
       "      <td>...</td>\n",
       "      <td>0</td>\n",
       "      <td>0</td>\n",
       "      <td>0</td>\n",
       "      <td>0</td>\n",
       "      <td>0</td>\n",
       "      <td>1</td>\n",
       "      <td>0</td>\n",
       "      <td>0</td>\n",
       "      <td>1</td>\n",
       "      <td>0</td>\n",
       "    </tr>\n",
       "    <tr>\n",
       "      <th>3</th>\n",
       "      <td>4</td>\n",
       "      <td>4.0</td>\n",
       "      <td>4.0</td>\n",
       "      <td>3.0</td>\n",
       "      <td>38</td>\n",
       "      <td>No</td>\n",
       "      <td>2</td>\n",
       "      <td>5</td>\n",
       "      <td>1</td>\n",
       "      <td>3</td>\n",
       "      <td>...</td>\n",
       "      <td>0</td>\n",
       "      <td>0</td>\n",
       "      <td>0</td>\n",
       "      <td>0</td>\n",
       "      <td>0</td>\n",
       "      <td>0</td>\n",
       "      <td>0</td>\n",
       "      <td>0</td>\n",
       "      <td>1</td>\n",
       "      <td>0</td>\n",
       "    </tr>\n",
       "    <tr>\n",
       "      <th>4</th>\n",
       "      <td>5</td>\n",
       "      <td>4.0</td>\n",
       "      <td>1.0</td>\n",
       "      <td>3.0</td>\n",
       "      <td>32</td>\n",
       "      <td>No</td>\n",
       "      <td>10</td>\n",
       "      <td>1</td>\n",
       "      <td>1</td>\n",
       "      <td>1</td>\n",
       "      <td>...</td>\n",
       "      <td>0</td>\n",
       "      <td>0</td>\n",
       "      <td>0</td>\n",
       "      <td>0</td>\n",
       "      <td>0</td>\n",
       "      <td>1</td>\n",
       "      <td>0</td>\n",
       "      <td>0</td>\n",
       "      <td>0</td>\n",
       "      <td>1</td>\n",
       "    </tr>\n",
       "  </tbody>\n",
       "</table>\n",
       "<p>5 rows × 51 columns</p>\n",
       "</div>"
      ],
      "text/plain": [
       "   EmployeeID  EnvironmentSatisfaction  JobSatisfaction  WorkLifeBalance  Age  \\\n",
       "0           1                      3.0              4.0              2.0   51   \n",
       "1           2                      3.0              2.0              4.0   31   \n",
       "2           3                      2.0              2.0              1.0   32   \n",
       "3           4                      4.0              4.0              3.0   38   \n",
       "4           5                      4.0              1.0              3.0   32   \n",
       "\n",
       "  Attrition  DistanceFromHome  Education  EmployeeCount  JobLevel  ...  \\\n",
       "0        No                 6          2              1         1  ...   \n",
       "1       Yes                10          1              1         1  ...   \n",
       "2        No                17          4              1         4  ...   \n",
       "3        No                 2          5              1         3  ...   \n",
       "4        No                10          1              1         1  ...   \n",
       "\n",
       "   JobRole_Laboratory Technician  JobRole_Manager  \\\n",
       "0                              0                0   \n",
       "1                              0                0   \n",
       "2                              0                0   \n",
       "3                              0                0   \n",
       "4                              0                0   \n",
       "\n",
       "   JobRole_Manufacturing Director  JobRole_Research Director  \\\n",
       "0                               0                          0   \n",
       "1                               0                          0   \n",
       "2                               0                          0   \n",
       "3                               0                          0   \n",
       "4                               0                          0   \n",
       "\n",
       "   JobRole_Research Scientist  JobRole_Sales Executive  \\\n",
       "0                           0                        0   \n",
       "1                           1                        0   \n",
       "2                           0                        1   \n",
       "3                           0                        0   \n",
       "4                           0                        1   \n",
       "\n",
       "   JobRole_Sales Representative  MaritalStatus_Divorced  \\\n",
       "0                             0                       0   \n",
       "1                             0                       0   \n",
       "2                             0                       0   \n",
       "3                             0                       0   \n",
       "4                             0                       0   \n",
       "\n",
       "   MaritalStatus_Married  MaritalStatus_Single  \n",
       "0                      1                     0  \n",
       "1                      0                     1  \n",
       "2                      1                     0  \n",
       "3                      1                     0  \n",
       "4                      0                     1  \n",
       "\n",
       "[5 rows x 51 columns]"
      ]
     },
     "execution_count": 19,
     "metadata": {},
     "output_type": "execute_result"
    }
   ],
   "source": [
    "data1.head()"
   ]
  },
  {
   "cell_type": "code",
   "execution_count": 20,
   "id": "357c3de4",
   "metadata": {},
   "outputs": [],
   "source": [
    "#data1.Attrition = data1.Attrition.astype(float)\n",
    "#data1['Travel_Rarely'].astype(float)"
   ]
  },
  {
   "cell_type": "markdown",
   "id": "c4cb1800",
   "metadata": {},
   "source": [
    "We need to split our feacture columns from our target columns 'Attrition'. \n",
    "we will use the feactures columns to predict the target columns"
   ]
  },
  {
   "cell_type": "code",
   "execution_count": 21,
   "id": "fa6d35ad",
   "metadata": {},
   "outputs": [],
   "source": [
    "x=data1.drop(columns='Attrition',axis=1)\n",
    "y=data1['Attrition']"
   ]
  },
  {
   "cell_type": "markdown",
   "id": "456be1af",
   "metadata": {},
   "source": [
    "Data split into training data and testing data. first we'll need to create train and test variable for x and y"
   ]
  },
  {
   "cell_type": "code",
   "execution_count": 22,
   "id": "a3761637",
   "metadata": {},
   "outputs": [],
   "source": [
    "x_train, x_test, y_train, y_test=train_test_split(x, y, test_size=0.2, stratify=y, random_state=3)"
   ]
  },
  {
   "cell_type": "code",
   "execution_count": 23,
   "id": "53929f28",
   "metadata": {},
   "outputs": [
    {
     "name": "stdout",
     "output_type": "stream",
     "text": [
      "(3528, 50) (882, 50)\n"
     ]
    }
   ],
   "source": [
    "# let's check the shape our our train and test data\n",
    "print(x_train.shape, x_test.shape)"
   ]
  },
  {
   "cell_type": "code",
   "execution_count": 24,
   "id": "11489d72",
   "metadata": {},
   "outputs": [],
   "source": [
    "# Model used: Logistic Regression\n",
    "Model_var= LogisticRegression()"
   ]
  },
  {
   "cell_type": "code",
   "execution_count": 25,
   "id": "f4c93844",
   "metadata": {},
   "outputs": [
    {
     "data": {
      "text/plain": [
       "LogisticRegression()"
      ]
     },
     "execution_count": 25,
     "metadata": {},
     "output_type": "execute_result"
    }
   ],
   "source": [
    "# training  Model_var with training data\n",
    "Model_var.fit(x_train, y_train)"
   ]
  },
  {
   "cell_type": "code",
   "execution_count": 26,
   "id": "ad905912",
   "metadata": {},
   "outputs": [],
   "source": [
    "# Training accuracy:\n",
    "x_train_predict = Model_var.predict(x_train)\n",
    "train_accuracy = accuracy_score(x_train_predict, y_train)"
   ]
  },
  {
   "cell_type": "code",
   "execution_count": 27,
   "id": "2de00ec3",
   "metadata": {},
   "outputs": [
    {
     "name": "stdout",
     "output_type": "stream",
     "text": [
      "Training Accuracy:  0.8438208616780045\n"
     ]
    }
   ],
   "source": [
    "print('Training Accuracy: ', train_accuracy)"
   ]
  },
  {
   "cell_type": "code",
   "execution_count": 28,
   "id": "c0462590",
   "metadata": {},
   "outputs": [],
   "source": [
    "# Test accuracy:\n",
    "x_test_predict = Model_var.predict(x_test)\n",
    "test_accuracy = accuracy_score(x_test_predict, y_test)"
   ]
  },
  {
   "cell_type": "code",
   "execution_count": 29,
   "id": "55223335",
   "metadata": {},
   "outputs": [
    {
     "name": "stdout",
     "output_type": "stream",
     "text": [
      "Test Accuracy:  0.8390022675736961\n"
     ]
    }
   ],
   "source": [
    "print('Test Accuracy: ', test_accuracy)"
   ]
  },
  {
   "cell_type": "code",
   "execution_count": 30,
   "id": "0b6ec7a7",
   "metadata": {},
   "outputs": [],
   "source": [
    "# accuracy calculation Confusion Matrix"
   ]
  },
  {
   "cell_type": "code",
   "execution_count": 31,
   "id": "a0055749",
   "metadata": {},
   "outputs": [
    {
     "data": {
      "text/plain": [
       "array([[728,  12],\n",
       "       [130,  12]], dtype=int64)"
      ]
     },
     "execution_count": 31,
     "metadata": {},
     "output_type": "execute_result"
    }
   ],
   "source": [
    "confusion_matrix(y_true=y_test, y_pred=x_test_predict)"
   ]
  },
  {
   "cell_type": "code",
   "execution_count": 32,
   "id": "b5e4fd0f",
   "metadata": {},
   "outputs": [
    {
     "data": {
      "text/plain": [
       "array(['No', 'Yes'], dtype=object)"
      ]
     },
     "execution_count": 32,
     "metadata": {},
     "output_type": "execute_result"
    }
   ],
   "source": [
    "Model_var.classes_"
   ]
  },
  {
   "cell_type": "code",
   "execution_count": 71,
   "id": "09d0ec57",
   "metadata": {},
   "outputs": [
    {
     "data": {
      "text/plain": [
       "[2,\n",
       " 3.0,\n",
       " 2.0,\n",
       " 4.0,\n",
       " 31,\n",
       " 'Yes',\n",
       " 10,\n",
       " 1,\n",
       " 1,\n",
       " 1,\n",
       " 41890,\n",
       " 0.0,\n",
       " 23,\n",
       " 8,\n",
       " 1,\n",
       " 6.0,\n",
       " 3,\n",
       " 5,\n",
       " 1,\n",
       " 4,\n",
       " 2,\n",
       " 4,\n",
       " 236,\n",
       " 7.72,\n",
       " 1821.68,\n",
       " 0,\n",
       " 1,\n",
       " 0,\n",
       " 0,\n",
       " 1,\n",
       " 0,\n",
       " 0,\n",
       " 1,\n",
       " 0,\n",
       " 0,\n",
       " 0,\n",
       " 0,\n",
       " 1,\n",
       " 0,\n",
       " 0,\n",
       " 0,\n",
       " 0,\n",
       " 0,\n",
       " 0,\n",
       " 0,\n",
       " 1,\n",
       " 0,\n",
       " 0,\n",
       " 0,\n",
       " 0,\n",
       " 1]"
      ]
     },
     "execution_count": 71,
     "metadata": {},
     "output_type": "execute_result"
    }
   ],
   "source": [
    "# a new value\n",
    "data1.iloc[1].to_list()"
   ]
  },
  {
   "cell_type": "code",
   "execution_count": 34,
   "id": "eec75ca4",
   "metadata": {},
   "outputs": [
    {
     "data": {
      "text/plain": [
       "3610    Yes\n",
       "2545    Yes\n",
       "1681    Yes\n",
       "1344    Yes\n",
       "2544    Yes\n",
       "       ... \n",
       "1117    Yes\n",
       "2491    Yes\n",
       "2469    Yes\n",
       "1021    Yes\n",
       "928     Yes\n",
       "Name: Attrition, Length: 142, dtype: object"
      ]
     },
     "execution_count": 34,
     "metadata": {},
     "output_type": "execute_result"
    }
   ],
   "source": [
    "y_test.where(y_test == \"Yes\").dropna()"
   ]
  },
  {
   "cell_type": "code",
   "execution_count": 35,
   "id": "e4a6d7f4",
   "metadata": {},
   "outputs": [
    {
     "data": {
      "text/html": [
       "<div>\n",
       "<style scoped>\n",
       "    .dataframe tbody tr th:only-of-type {\n",
       "        vertical-align: middle;\n",
       "    }\n",
       "\n",
       "    .dataframe tbody tr th {\n",
       "        vertical-align: top;\n",
       "    }\n",
       "\n",
       "    .dataframe thead th {\n",
       "        text-align: right;\n",
       "    }\n",
       "</style>\n",
       "<table border=\"1\" class=\"dataframe\">\n",
       "  <thead>\n",
       "    <tr style=\"text-align: right;\">\n",
       "      <th></th>\n",
       "      <th>EmployeeID</th>\n",
       "      <th>EnvironmentSatisfaction</th>\n",
       "      <th>JobSatisfaction</th>\n",
       "      <th>WorkLifeBalance</th>\n",
       "      <th>Age</th>\n",
       "      <th>DistanceFromHome</th>\n",
       "      <th>Education</th>\n",
       "      <th>EmployeeCount</th>\n",
       "      <th>JobLevel</th>\n",
       "      <th>MonthlyIncome</th>\n",
       "      <th>...</th>\n",
       "      <th>JobRole_Laboratory Technician</th>\n",
       "      <th>JobRole_Manager</th>\n",
       "      <th>JobRole_Manufacturing Director</th>\n",
       "      <th>JobRole_Research Director</th>\n",
       "      <th>JobRole_Research Scientist</th>\n",
       "      <th>JobRole_Sales Executive</th>\n",
       "      <th>JobRole_Sales Representative</th>\n",
       "      <th>MaritalStatus_Divorced</th>\n",
       "      <th>MaritalStatus_Married</th>\n",
       "      <th>MaritalStatus_Single</th>\n",
       "    </tr>\n",
       "  </thead>\n",
       "  <tbody>\n",
       "  </tbody>\n",
       "</table>\n",
       "<p>0 rows × 50 columns</p>\n",
       "</div>"
      ],
      "text/plain": [
       "Empty DataFrame\n",
       "Columns: [EmployeeID, EnvironmentSatisfaction, JobSatisfaction, WorkLifeBalance, Age, DistanceFromHome, Education, EmployeeCount, JobLevel, MonthlyIncome, NumCompaniesWorked, PercentSalaryHike, StandardHours, StockOptionLevel, TotalWorkingYears, TrainingTimesLastYear, YearsAtCompany, YearsSinceLastPromotion, YearsWithCurrManager, JobInvolvement, PerformanceRating, Total_w_days, AvgHours, TotalHours, BusinessTravel_Non-Travel, BusinessTravel_Travel_Frequently, BusinessTravel_Travel_Rarely, Department_Human Resources, Department_Research & Development, Department_Sales, EducationField_Human Resources, EducationField_Life Sciences, EducationField_Marketing, EducationField_Medical, EducationField_Other, EducationField_Technical Degree, Gender_Female, Gender_Male, JobRole_Healthcare Representative, JobRole_Human Resources, JobRole_Laboratory Technician, JobRole_Manager, JobRole_Manufacturing Director, JobRole_Research Director, JobRole_Research Scientist, JobRole_Sales Executive, JobRole_Sales Representative, MaritalStatus_Divorced, MaritalStatus_Married, MaritalStatus_Single]\n",
       "Index: []\n",
       "\n",
       "[0 rows x 50 columns]"
      ]
     },
     "execution_count": 35,
     "metadata": {},
     "output_type": "execute_result"
    }
   ],
   "source": [
    "x_test.where(x_test['EmployeeID'] ==  36).dropna()"
   ]
  },
  {
   "cell_type": "code",
   "execution_count": 36,
   "id": "978a35c9",
   "metadata": {},
   "outputs": [
    {
     "data": {
      "text/plain": [
       "array(['No'], dtype=object)"
      ]
     },
     "execution_count": 36,
     "metadata": {},
     "output_type": "execute_result"
    }
   ],
   "source": [
    "y_new1 = Model_var.predict(pd.DataFrame(x_test.iloc[35].tolist()).T)\n",
    "y_new1"
   ]
  },
  {
   "cell_type": "code",
   "execution_count": 37,
   "id": "b4b22d8c",
   "metadata": {},
   "outputs": [
    {
     "data": {
      "text/plain": [
       "'No'"
      ]
     },
     "execution_count": 37,
     "metadata": {},
     "output_type": "execute_result"
    }
   ],
   "source": [
    "y_test.iloc[35]"
   ]
  },
  {
   "cell_type": "code",
   "execution_count": 38,
   "id": "46be38ed",
   "metadata": {},
   "outputs": [
    {
     "data": {
      "text/plain": [
       "[3610,\n",
       " 2545,\n",
       " 1681,\n",
       " 1344,\n",
       " 2544,\n",
       " 1339,\n",
       " 670,\n",
       " 3271,\n",
       " 1121,\n",
       " 4197,\n",
       " 2999,\n",
       " 289,\n",
       " 3513,\n",
       " 2435,\n",
       " 2581,\n",
       " 3739,\n",
       " 4329,\n",
       " 1921,\n",
       " 3694,\n",
       " 2449,\n",
       " 402,\n",
       " 13,\n",
       " 3718,\n",
       " 4276,\n",
       " 1238,\n",
       " 2771,\n",
       " 3277,\n",
       " 1428,\n",
       " 1138,\n",
       " 1956,\n",
       " 758,\n",
       " 1819,\n",
       " 1991,\n",
       " 1033,\n",
       " 570,\n",
       " 2159,\n",
       " 4402,\n",
       " 504,\n",
       " 2483,\n",
       " 2874,\n",
       " 878,\n",
       " 3052,\n",
       " 1348,\n",
       " 1937,\n",
       " 798,\n",
       " 748,\n",
       " 538,\n",
       " 1578,\n",
       " 2708,\n",
       " 1448,\n",
       " 1907,\n",
       " 127,\n",
       " 1338,\n",
       " 1096,\n",
       " 3407,\n",
       " 2245,\n",
       " 3430,\n",
       " 3713,\n",
       " 3794,\n",
       " 519,\n",
       " 4061,\n",
       " 178,\n",
       " 1964,\n",
       " 4368,\n",
       " 708,\n",
       " 2104,\n",
       " 1848,\n",
       " 3161,\n",
       " 2751,\n",
       " 3759,\n",
       " 3413,\n",
       " 4178,\n",
       " 2502,\n",
       " 246,\n",
       " 6,\n",
       " 1774,\n",
       " 437,\n",
       " 2525,\n",
       " 4015,\n",
       " 2164,\n",
       " 59,\n",
       " 310,\n",
       " 1803,\n",
       " 3177,\n",
       " 3688,\n",
       " 4051,\n",
       " 749,\n",
       " 2818,\n",
       " 2178,\n",
       " 2187,\n",
       " 4292,\n",
       " 1074,\n",
       " 722,\n",
       " 1901,\n",
       " 1013,\n",
       " 1471,\n",
       " 4278,\n",
       " 1943,\n",
       " 4008,\n",
       " 3931,\n",
       " 613,\n",
       " 1878,\n",
       " 913,\n",
       " 451,\n",
       " 1,\n",
       " 1655,\n",
       " 221,\n",
       " 2004,\n",
       " 2248,\n",
       " 3104,\n",
       " 2732,\n",
       " 2946,\n",
       " 404,\n",
       " 4152,\n",
       " 4388,\n",
       " 3096,\n",
       " 2524,\n",
       " 1895,\n",
       " 340,\n",
       " 781,\n",
       " 435,\n",
       " 1334,\n",
       " 4391,\n",
       " 2887,\n",
       " 1314,\n",
       " 754,\n",
       " 2806,\n",
       " 2565,\n",
       " 1881,\n",
       " 3121,\n",
       " 425,\n",
       " 4284,\n",
       " 3919,\n",
       " 1633,\n",
       " 2538,\n",
       " 1932,\n",
       " 999,\n",
       " 1117,\n",
       " 2491,\n",
       " 2469,\n",
       " 1021,\n",
       " 928]"
      ]
     },
     "execution_count": 38,
     "metadata": {},
     "output_type": "execute_result"
    }
   ],
   "source": [
    "y_test.where(y_test=='Yes').dropna()\n",
    "indexes= y_test.where(y_test=='Yes').dropna().index.to_list()\n",
    "indexes"
   ]
  },
  {
   "cell_type": "code",
   "execution_count": 39,
   "id": "6c8d0f6c",
   "metadata": {},
   "outputs": [
    {
     "data": {
      "text/plain": [
       "'Yes'"
      ]
     },
     "execution_count": 39,
     "metadata": {},
     "output_type": "execute_result"
    }
   ],
   "source": [
    "y_test.loc[1117]"
   ]
  },
  {
   "cell_type": "code",
   "execution_count": 40,
   "id": "70f8e5ae",
   "metadata": {},
   "outputs": [
    {
     "data": {
      "text/plain": [
       "No     130\n",
       "Yes     12\n",
       "dtype: int64"
      ]
     },
     "execution_count": 40,
     "metadata": {},
     "output_type": "execute_result"
    }
   ],
   "source": [
    "y_new = Model_var.predict(x_test.loc[indexes])\n",
    "pd.Series(y_new).value_counts()"
   ]
  },
  {
   "cell_type": "code",
   "execution_count": 41,
   "id": "e3e3ec48",
   "metadata": {},
   "outputs": [
    {
     "data": {
      "text/plain": [
       "8.450704225352112"
      ]
     },
     "execution_count": 41,
     "metadata": {},
     "output_type": "execute_result"
    }
   ],
   "source": [
    "12/142*100 # accuracy for Yes"
   ]
  },
  {
   "cell_type": "code",
   "execution_count": 43,
   "id": "5cf60f34",
   "metadata": {},
   "outputs": [
    {
     "data": {
      "text/plain": [
       "No     728\n",
       "Yes     12\n",
       "dtype: int64"
      ]
     },
     "execution_count": 43,
     "metadata": {},
     "output_type": "execute_result"
    }
   ],
   "source": [
    "y_new2 = Model_var.predict(x_test.loc[no_indexes])\n",
    "pd.Series(y_new2).value_counts()"
   ]
  },
  {
   "cell_type": "code",
   "execution_count": 44,
   "id": "3ade00c9",
   "metadata": {},
   "outputs": [
    {
     "data": {
      "text/plain": [
       "98.37837837837839"
      ]
     },
     "execution_count": 44,
     "metadata": {},
     "output_type": "execute_result"
    }
   ],
   "source": [
    "728/740*100 # accuracy for No"
   ]
  },
  {
   "cell_type": "code",
   "execution_count": 45,
   "id": "e9928b5f",
   "metadata": {},
   "outputs": [
    {
     "data": {
      "text/plain": [
       "array([[728,  12],\n",
       "       [130,  12]], dtype=int64)"
      ]
     },
     "execution_count": 45,
     "metadata": {},
     "output_type": "execute_result"
    }
   ],
   "source": [
    "confusion_matrix(y_true=y_test, y_pred=x_test_predict)\n"
   ]
  },
  {
   "cell_type": "code",
   "execution_count": 65,
   "id": "ee460738",
   "metadata": {},
   "outputs": [
    {
     "data": {
      "text/plain": [
       "<sklearn.metrics._plot.confusion_matrix.ConfusionMatrixDisplay at 0x27657475d30>"
      ]
     },
     "execution_count": 65,
     "metadata": {},
     "output_type": "execute_result"
    },
    {
     "data": {
      "image/png": "[encoded data removed]",
      "text/plain": [
       "<Figure size 432x288 with 2 Axes>"
      ]
     },
     "metadata": {
      "needs_background": "light"
     },
     "output_type": "display_data"
    }
   ],
   "source": [
    "cm = confusion_matrix(y_test, y_pred)\n",
    "ConfusionMatrixDisplay(cm).plot()"
   ]
  },
  {
   "cell_type": "markdown",
   "id": "532e7af5",
   "metadata": {},
   "source": [
    "(TN=728, FP=12), (FN=130, TP=12)"
   ]
  },
  {
   "cell_type": "code",
   "execution_count": 70,
   "id": "a1ee5326",
   "metadata": {},
   "outputs": [
    {
     "name": "stdout",
     "output_type": "stream",
     "text": [
      "83.90022675736961\n"
     ]
    }
   ],
   "source": [
    "accuracy=((728+12)/(728+12+12+130))*100\n",
    "print(accuracy)"
   ]
  }
 ],
 "metadata": {
  "kernelspec": {
   "display_name": "Python 3 (ipykernel)",
   "language": "python",
   "name": "python3"
  },
  "language_info": {
   "codemirror_mode": {
    "name": "ipython",
    "version": 3
   },
   "file_extension": ".py",
   "mimetype": "text/x-python",
   "name": "python",
   "nbconvert_exporter": "python",
   "pygments_lexer": "ipython3",
   "version": "3.9.12"
  }
 },
 "nbformat": 4,
 "nbformat_minor": 5
}
